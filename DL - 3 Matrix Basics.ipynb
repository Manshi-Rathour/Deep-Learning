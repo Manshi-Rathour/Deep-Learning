{
 "cells": [
  {
   "cell_type": "code",
   "execution_count": 1,
   "id": "c2fc9814",
   "metadata": {},
   "outputs": [],
   "source": [
    "import numpy as np"
   ]
  },
  {
   "cell_type": "markdown",
   "id": "0af61e80",
   "metadata": {},
   "source": [
    "# Calculating Profit / Loss from revenue and expances "
   ]
  },
  {
   "cell_type": "code",
   "execution_count": 2,
   "id": "7174040c",
   "metadata": {},
   "outputs": [],
   "source": [
    "revenue = np.array([[120,80,90],[100,110,95],[110,100,80]])\n",
    "expances = np.array([[100,60,80],[70,90,80],[100,80,70]])"
   ]
  },
  {
   "cell_type": "code",
   "execution_count": 3,
   "id": "d63f093b",
   "metadata": {},
   "outputs": [
    {
     "data": {
      "text/plain": [
       "array([[20, 20, 10],\n",
       "       [30, 20, 15],\n",
       "       [10, 20, 10]])"
      ]
     },
     "execution_count": 3,
     "metadata": {},
     "output_type": "execute_result"
    }
   ],
   "source": [
    "profit = revenue - expances\n",
    "profit"
   ]
  },
  {
   "cell_type": "markdown",
   "id": "ca92cc20",
   "metadata": {},
   "source": [
    "# Calculate total sales from units and price per unit using matrix multiplication"
   ]
  },
  {
   "cell_type": "code",
   "execution_count": 4,
   "id": "47287041",
   "metadata": {},
   "outputs": [],
   "source": [
    "price_per_unit = np.array([1000,900,1200])\n",
    "units = np.array([[30,40,50],[5,10,15],[2,5,7]])"
   ]
  },
  {
   "cell_type": "code",
   "execution_count": 5,
   "id": "109223d8",
   "metadata": {},
   "outputs": [
    {
     "data": {
      "text/plain": [
       "array([[30000, 36000, 60000],\n",
       "       [ 5000,  9000, 18000],\n",
       "       [ 2000,  4500,  8400]])"
      ]
     },
     "execution_count": 5,
     "metadata": {},
     "output_type": "execute_result"
    }
   ],
   "source": [
    "price_per_unit*units"
   ]
  },
  {
   "cell_type": "code",
   "execution_count": 6,
   "id": "4cc39896",
   "metadata": {},
   "outputs": [
    {
     "data": {
      "text/plain": [
       "array([36900, 55000, 71900])"
      ]
     },
     "execution_count": 6,
     "metadata": {},
     "output_type": "execute_result"
    }
   ],
   "source": [
    "np.dot(price_per_unit, units)"
   ]
  },
  {
   "cell_type": "markdown",
   "id": "f9d6821d",
   "metadata": {},
   "source": [
    "# Exercise"
   ]
  },
  {
   "cell_type": "code",
   "execution_count": 7,
   "id": "64ae3bdc",
   "metadata": {},
   "outputs": [],
   "source": [
    "reliance = np.array([200,220,250])\n",
    "infosys = np.array([68,79,105])\n",
    "tcs = np.array([110,140,180])\n",
    "wipro = np.array([80,85,90])"
   ]
  },
  {
   "cell_type": "code",
   "execution_count": 8,
   "id": "f6e4926b",
   "metadata": {},
   "outputs": [
    {
     "data": {
      "text/plain": [
       "array([[15000, 16500, 18750],\n",
       "       [ 5100,  5925,  7875],\n",
       "       [ 8250, 10500, 13500],\n",
       "       [ 6000,  6375,  6750]])"
      ]
     },
     "execution_count": 8,
     "metadata": {},
     "output_type": "execute_result"
    }
   ],
   "source": [
    "revenue = np.array([[200,220,250],[68,79,105],[110,140,180],[80,85,90]])\n",
    "revenue*75"
   ]
  },
  {
   "cell_type": "code",
   "execution_count": 9,
   "id": "80728cf9",
   "metadata": {},
   "outputs": [],
   "source": [
    "units_sold = np.array([[50,60,25],[10,13,5],[40,70,52]])\n",
    "price_per_unit = np.array([20,30,15])"
   ]
  },
  {
   "cell_type": "code",
   "execution_count": 10,
   "id": "8d8b5b36",
   "metadata": {},
   "outputs": [
    {
     "data": {
      "text/plain": [
       "array([[1000, 1800,  375],\n",
       "       [ 200,  390,   75],\n",
       "       [ 800, 2100,  780]])"
      ]
     },
     "execution_count": 10,
     "metadata": {},
     "output_type": "execute_result"
    }
   ],
   "source": [
    "total_sales = price_per_unit*units_sold\n",
    "total_sales"
   ]
  },
  {
   "cell_type": "code",
   "execution_count": 11,
   "id": "a1515ae9",
   "metadata": {},
   "outputs": [
    {
     "data": {
      "text/plain": [
       "array([3175,  665, 3680])"
      ]
     },
     "execution_count": 11,
     "metadata": {},
     "output_type": "execute_result"
    }
   ],
   "source": [
    "np.dot(units_sold, price_per_unit)"
   ]
  }
 ],
 "metadata": {
  "kernelspec": {
   "display_name": "Python 3 (ipykernel)",
   "language": "python",
   "name": "python3"
  },
  "language_info": {
   "codemirror_mode": {
    "name": "ipython",
    "version": 3
   },
   "file_extension": ".py",
   "mimetype": "text/x-python",
   "name": "python",
   "nbconvert_exporter": "python",
   "pygments_lexer": "ipython3",
   "version": "3.9.13"
  }
 },
 "nbformat": 4,
 "nbformat_minor": 5
}
